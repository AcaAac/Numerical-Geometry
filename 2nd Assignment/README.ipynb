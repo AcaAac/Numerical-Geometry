{
 "cells": [
  {
   "cell_type": "markdown",
   "metadata": {},
   "source": [
    "# Triangle and Segment Location in a Mesh\n",
    "\n",
    "This code provides two functions, `setup_triangle_location` and `setup_segment_location`, to interact with a mesh and determine the location of a point or a segment in the mesh.\n",
    "\n",
    "## `setup_triangle_location`\n",
    "\n",
    "Allows for the visualization of the developed Marching Triangles algorithm. \n",
    "\n",
    "1. It displays the mesh on an HTML canvas.\n",
    "2. When you click on the canvas, the code performs the following steps:\n",
    "   - Selects an arbitrary triangle in the mesh.\n",
    "   - Uses the Marching Triangle algorithm to find the triangle containing the clicked point.\n",
    "   - If the point is inside a triangle, it fills the triangle with green color, draws a line between the target point and the arbitrary vertex, and marks the target point as red.\n",
    "   - To display the half-edges in a pretty way, it paints every crossed half-edge in yellow.\n",
    "\n",
    "## `setup_segment_location`\n",
    "\n",
    "Allows for the visualization of a segment intersection with the mesh, also using the Marching Triangles algorithm.\n",
    "\n",
    "1. It displays the mesh on an HTML canvas.\n",
    "2. When you click on the canvas, the code performs the following steps:\n",
    "   - Selects an arbitrary triangle in the mesh.\n",
    "   - Uses the Marching Triangle algorithm to find the triangle containing the first clicked point, which will be the starting point of the segment.\n",
    "   - Marks the starting point as red.\n",
    "   - When you click a second time, it determines the segment by connecting the two clicked points in red and calculates the intersections of this segment with the mesh. \n",
    "   - To display the half-edges in a pretty way, it paint every crossed half-edge in blue.\n",
    "3. The process continues until you have two points and the code calculates and displays the intersections of the segment with the mesh.\n",
    "\n",
    "## Mesh Visualization\n",
    "\n",
    "Both functions also display the mesh with triangles and their vertices on an HTML canvas. The triangles are drawn with their IDs and vertex IDs.\n"
   ]
  }
 ],
 "metadata": {
  "kernelspec": {
   "display_name": "Python 3",
   "language": "python",
   "name": "python3"
  },
  "language_info": {
   "codemirror_mode": {
    "name": "ipython",
    "version": 3
   },
   "file_extension": ".py",
   "mimetype": "text/x-python",
   "name": "python",
   "nbconvert_exporter": "python",
   "pygments_lexer": "ipython3",
   "version": "3.11.5"
  }
 },
 "nbformat": 4,
 "nbformat_minor": 2
}
