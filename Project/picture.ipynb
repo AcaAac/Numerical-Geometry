{
 "cells": [
  {
   "cell_type": "code",
   "execution_count": 5,
   "metadata": {},
   "outputs": [],
   "source": [
    "import cv2\n",
    "import json\n",
    "import numpy as np\n",
    "\n",
    "# Load the image\n",
    "image = cv2.imread('Baby-Bear-wallpaper-477797893.jpg')\n",
    "\n",
    "# Convert to grayscale\n",
    "gray = cv2.cvtColor(image, cv2.COLOR_BGR2GRAY)\n",
    "\n",
    "# Apply Canny edge detection\n",
    "edges = cv2.Canny(gray, threshold1=30, threshold2=100)\n",
    "\n",
    "# Find coordinates of the edges\n",
    "points = np.column_stack(np.where(edges > 0))\n",
    "\n",
    "# Limit the number of points to a maximum of 1000\n",
    "max_points = 1000\n",
    "if points.shape[0] > max_points:\n",
    "    # Randomly select 1000 points\n",
    "    indices = np.random.choice(points.shape[0], max_points, replace=False)\n",
    "    points = points[indices]\n",
    "\n",
    "# Get image dimensions\n",
    "height, width = gray.shape\n",
    "\n",
    "# Scale points to range 0-1 and add Z coordinate as 0\n",
    "scaled_points = [(x/width, y/height, 0) for y, x in points]\n",
    "\n",
    "# Convert to JSON format\n",
    "json_data = json.dumps({\"points\": scaled_points})\n",
    "\n",
    "# Save to a JSON file\n",
    "with open('bear_points.json', 'w') as json_file:\n",
    "    json_file.write(json_data)\n"
   ]
  }
 ],
 "metadata": {
  "kernelspec": {
   "display_name": "Python 3",
   "language": "python",
   "name": "python3"
  },
  "language_info": {
   "codemirror_mode": {
    "name": "ipython",
    "version": 3
   },
   "file_extension": ".py",
   "mimetype": "text/x-python",
   "name": "python",
   "nbconvert_exporter": "python",
   "pygments_lexer": "ipython3",
   "version": "3.11.5"
  }
 },
 "nbformat": 4,
 "nbformat_minor": 2
}
