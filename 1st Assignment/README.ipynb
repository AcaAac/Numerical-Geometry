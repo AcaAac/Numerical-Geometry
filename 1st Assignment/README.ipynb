{
 "cells": [
  {
   "cell_type": "markdown",
   "metadata": {},
   "source": [
    "# Mesh and Triangulation Exercises\n",
    "\n",
    "## Overview\n",
    "\n",
    "This code comprises two exercises implemented on an HTML canvas, each designed to enhance the group's awareness of Delaunay triangulations and mesh structures.\n",
    "\n",
    "### Exercise 1 - \"canvas1\"\n",
    "\n",
    "- **User Interaction:** Clicking on \"canvas1\" creates red dots, with each click adding a dot.\n",
    "- **Segment Drawing:** Every two clicks result in a line drawn between two consecutive red dots.\n",
    "- **Intersection Detection:** If a pair of lines (formed by every two segments) intersects, a green dot appears at the intersection point.\n",
    "- **Coincident Lines:** If the lines are coincident (degenerate case), a yellow line indicates the coincidence.\n",
    "\n",
    "### Exercise 2 - \"canvas2\"\n",
    "\n",
    "- **Mesh Display:** \"canvas2\" displays a simple mesh with triangular elements.\n",
    "- **Point and Triangle Interaction:** Clicking inside a triangle on \"canvas2\" adds a red dot at the clicked location and colors the triangle green.\n",
    "\n",
    "## Instructions\n",
    "\n",
    "1. **Run the Code:**\n",
    "   - Ensure the code is executed in a browser environment.\n",
    "   - Two HTML canvas elements, \"canvas1\" and \"canvas2,\" are required.\n",
    "\n",
    "2. **Exercise 1 - \"canvas1\":**\n",
    "   - Click on \"canvas1\" to draw red dots and form line segments.\n",
    "   - Green dots appear at the intersection points of every two consecutive line segments.\n",
    "   - Yellow lines indicate coincident parallel lines.\n",
    "\n",
    "3. **Exercise 2 - \"canvas2\":**\n",
    "   - \"canvas2\" displays a mesh with triangular elements.\n",
    "   - Click inside a triangle to:\n",
    "     - Add a red dot at the clicked location.\n",
    "     - Color the triangle green.\n",
    "\n",
    "### Bonus Points\n",
    "\n",
    "A bonus function named `zoomWheel` is available for zooming using the mouse wheel. To enable zooming:\n",
    "\n",
    "- **Integration (Bonus):**\n",
    "  - Integrate the `zoomWheel` function into the main code.\n",
    "  - Call `zoomWheel` when the mouse wheel is scrolled.\n",
    "\n",
    "**Note:** Ensure that the HTML structure and necessary mesh data are provided for the code to execute correctly.\n"
   ]
  }
 ],
 "metadata": {
  "kernelspec": {
   "display_name": "Python 3",
   "language": "python",
   "name": "python3"
  },
  "language_info": {
   "codemirror_mode": {
    "name": "ipython",
    "version": 3
   },
   "file_extension": ".py",
   "mimetype": "text/x-python",
   "name": "python",
   "nbconvert_exporter": "python",
   "pygments_lexer": "ipython3",
   "version": "3.11.5"
  }
 },
 "nbformat": 4,
 "nbformat_minor": 2
}
